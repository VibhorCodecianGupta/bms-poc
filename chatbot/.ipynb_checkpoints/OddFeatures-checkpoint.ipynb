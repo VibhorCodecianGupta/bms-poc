{
 "cells": [
  {
   "cell_type": "code",
   "execution_count": 5,
   "metadata": {},
   "outputs": [
    {
     "ename": "ModuleNotFoundError",
     "evalue": "No module named 'geoip2'",
     "output_type": "error",
     "traceback": [
      "\u001b[1;31m---------------------------------------------------------------------------\u001b[0m",
      "\u001b[1;31mModuleNotFoundError\u001b[0m                       Traceback (most recent call last)",
      "\u001b[1;32m<ipython-input-5-05e2d82f8be4>\u001b[0m in \u001b[0;36m<module>\u001b[1;34m\u001b[0m\n\u001b[0;32m      1\u001b[0m \u001b[1;32mimport\u001b[0m \u001b[0mrequests\u001b[0m\u001b[1;33m\u001b[0m\u001b[1;33m\u001b[0m\u001b[0m\n\u001b[1;32m----> 2\u001b[1;33m \u001b[1;32mimport\u001b[0m \u001b[0mgeoip2\u001b[0m\u001b[1;33m\u001b[0m\u001b[1;33m\u001b[0m\u001b[0m\n\u001b[0m\u001b[0;32m      3\u001b[0m \u001b[1;32mfrom\u001b[0m \u001b[0murllib\u001b[0m\u001b[1;33m.\u001b[0m\u001b[0mrequest\u001b[0m \u001b[1;32mimport\u001b[0m \u001b[0murlopen\u001b[0m\u001b[1;33m,\u001b[0m\u001b[0mRequest\u001b[0m\u001b[1;33m\u001b[0m\u001b[1;33m\u001b[0m\u001b[0m\n\u001b[0;32m      4\u001b[0m \u001b[1;32mimport\u001b[0m \u001b[0mwhois\u001b[0m\u001b[1;33m\u001b[0m\u001b[1;33m\u001b[0m\u001b[0m\n\u001b[0;32m      5\u001b[0m \u001b[1;32mimport\u001b[0m \u001b[0mgeoip2\u001b[0m\u001b[1;33m.\u001b[0m\u001b[0mdatabase\u001b[0m\u001b[1;33m\u001b[0m\u001b[1;33m\u001b[0m\u001b[0m\n",
      "\u001b[1;31mModuleNotFoundError\u001b[0m: No module named 'geoip2'"
     ]
    }
   ],
   "source": [
    "import requests\n",
    "import geoip2\n",
    "from urllib.request import urlopen,Request\n",
    "import whois\n",
    "import geoip2.database\n",
    "from bs4 import BeautifulSoup\n",
    "reader = geoip2.database.Reader('./GeoLite2-City_20190820/GeoLite2-City.mmdb')"
   ]
  },
  {
   "cell_type": "code",
   "execution_count": 4,
   "metadata": {},
   "outputs": [
    {
     "name": "stdout",
     "output_type": "stream",
     "text": [
      "Requirement already satisfied: geoip2 in c:\\users\\utkarsh\\anaconda3\\lib\\site-packages (2.9.0)\n",
      "Requirement already satisfied: requests>=2.9 in c:\\users\\utkarsh\\anaconda3\\lib\\site-packages (from geoip2) (2.21.0)\n",
      "Requirement already satisfied: maxminddb>=1.4.0 in c:\\users\\utkarsh\\anaconda3\\lib\\site-packages (from geoip2) (1.4.1)\n",
      "Requirement already satisfied: urllib3<1.25,>=1.21.1 in c:\\users\\utkarsh\\anaconda3\\lib\\site-packages (from requests>=2.9->geoip2) (1.24.1)\n",
      "Requirement already satisfied: certifi>=2017.4.17 in c:\\users\\utkarsh\\anaconda3\\lib\\site-packages (from requests>=2.9->geoip2) (2019.6.16)\n",
      "Requirement already satisfied: chardet<3.1.0,>=3.0.2 in c:\\users\\utkarsh\\anaconda3\\lib\\site-packages (from requests>=2.9->geoip2) (3.0.4)\n",
      "Requirement already satisfied: idna<2.9,>=2.5 in c:\\users\\utkarsh\\anaconda3\\lib\\site-packages (from requests>=2.9->geoip2) (2.8)\n"
     ]
    }
   ],
   "source": [
    "!pip3 install geoip2"
   ]
  },
  {
   "cell_type": "code",
   "execution_count": 12,
   "metadata": {},
   "outputs": [
    {
     "name": "stdout",
     "output_type": "stream",
     "text": [
      "Requirement already satisfied: ipykernel in c:\\users\\utkarsh\\anaconda3\\lib\\site-packages (5.1.0)\n",
      "Requirement already satisfied: ipython>=5.0.0 in c:\\users\\utkarsh\\anaconda3\\lib\\site-packages (from ipykernel) (7.4.0)\n",
      "Requirement already satisfied: jupyter-client in c:\\users\\utkarsh\\anaconda3\\lib\\site-packages (from ipykernel) (5.2.4)\n",
      "Requirement already satisfied: tornado>=4.2 in c:\\users\\utkarsh\\anaconda3\\lib\\site-packages (from ipykernel) (6.0.2)\n",
      "Requirement already satisfied: traitlets>=4.1.0 in c:\\users\\utkarsh\\anaconda3\\lib\\site-packages (from ipykernel) (4.3.2)\n",
      "Requirement already satisfied: backcall in c:\\users\\utkarsh\\anaconda3\\lib\\site-packages (from ipython>=5.0.0->ipykernel) (0.1.0)\n",
      "Requirement already satisfied: prompt-toolkit<2.1.0,>=2.0.0 in c:\\users\\utkarsh\\anaconda3\\lib\\site-packages (from ipython>=5.0.0->ipykernel) (2.0.9)\n",
      "Requirement already satisfied: pickleshare in c:\\users\\utkarsh\\anaconda3\\lib\\site-packages (from ipython>=5.0.0->ipykernel) (0.7.5)\n",
      "Requirement already satisfied: colorama; sys_platform == \"win32\" in c:\\users\\utkarsh\\anaconda3\\lib\\site-packages (from ipython>=5.0.0->ipykernel) (0.4.1)\n",
      "Requirement already satisfied: jedi>=0.10 in c:\\users\\utkarsh\\anaconda3\\lib\\site-packages (from ipython>=5.0.0->ipykernel) (0.13.3)\n",
      "Requirement already satisfied: pygments in c:\\users\\utkarsh\\anaconda3\\lib\\site-packages (from ipython>=5.0.0->ipykernel) (2.3.1)\n",
      "Requirement already satisfied: setuptools>=18.5 in c:\\users\\utkarsh\\anaconda3\\lib\\site-packages (from ipython>=5.0.0->ipykernel) (40.8.0)\n",
      "Requirement already satisfied: decorator in c:\\users\\utkarsh\\anaconda3\\lib\\site-packages (from ipython>=5.0.0->ipykernel) (4.4.0)\n",
      "Requirement already satisfied: pyzmq>=13 in c:\\users\\utkarsh\\anaconda3\\lib\\site-packages (from jupyter-client->ipykernel) (17.1.2)\n",
      "Requirement already satisfied: jupyter-core in c:\\users\\utkarsh\\anaconda3\\lib\\site-packages (from jupyter-client->ipykernel) (4.4.0)\n",
      "Requirement already satisfied: python-dateutil>=2.1 in c:\\users\\utkarsh\\anaconda3\\lib\\site-packages (from jupyter-client->ipykernel) (2.8.0)\n",
      "Requirement already satisfied: ipython-genutils in c:\\users\\utkarsh\\anaconda3\\lib\\site-packages (from traitlets>=4.1.0->ipykernel) (0.2.0)\n",
      "Requirement already satisfied: six in c:\\users\\utkarsh\\anaconda3\\lib\\site-packages (from traitlets>=4.1.0->ipykernel) (1.12.0)\n",
      "Requirement already satisfied: wcwidth in c:\\users\\utkarsh\\anaconda3\\lib\\site-packages (from prompt-toolkit<2.1.0,>=2.0.0->ipython>=5.0.0->ipykernel) (0.1.7)\n",
      "Requirement already satisfied: parso>=0.3.0 in c:\\users\\utkarsh\\anaconda3\\lib\\site-packages (from jedi>=0.10->ipython>=5.0.0->ipykernel) (0.3.4)\n"
     ]
    }
   ],
   "source": [
    "!python -m pip install ipykernel"
   ]
  },
  {
   "cell_type": "code",
   "execution_count": 13,
   "metadata": {},
   "outputs": [],
   "source": [
    "import sys"
   ]
  },
  {
   "cell_type": "code",
   "execution_count": 14,
   "metadata": {},
   "outputs": [
    {
     "data": {
      "text/plain": [
       "'C:\\\\Users\\\\UTKARSH\\\\Anaconda3\\\\envs\\\\synd\\\\python.exe'"
      ]
     },
     "execution_count": 14,
     "metadata": {},
     "output_type": "execute_result"
    }
   ],
   "source": [
    "sys.executable"
   ]
  },
  {
   "cell_type": "code",
   "execution_count": 3,
   "metadata": {},
   "outputs": [
    {
     "name": "stdout",
     "output_type": "stream",
     "text": [
      "Collecting geoip2\n",
      "  Using cached https://files.pythonhosted.org/packages/ed/17/bcbb7c0849492e218767e658c66fbf9e3420b6301072371547c4f7192d48/geoip2-2.9.0-py2.py3-none-any.whl\n",
      "Requirement already satisfied: requests>=2.9 in c:\\users\\utkarsh\\anaconda3\\lib\\site-packages (from geoip2) (2.21.0)\n",
      "Collecting maxminddb>=1.4.0 (from geoip2)\n",
      "  Using cached https://files.pythonhosted.org/packages/83/35/6dc423e0ff354c326849d6d878d104b44be7eec491dcf26787ab3593cd81/maxminddb-1.4.1.tar.gz\n",
      "Requirement already satisfied: urllib3<1.25,>=1.21.1 in c:\\users\\utkarsh\\anaconda3\\lib\\site-packages (from requests>=2.9->geoip2) (1.24.1)\n",
      "Requirement already satisfied: certifi>=2017.4.17 in c:\\users\\utkarsh\\anaconda3\\lib\\site-packages (from requests>=2.9->geoip2) (2019.6.16)\n",
      "Requirement already satisfied: chardet<3.1.0,>=3.0.2 in c:\\users\\utkarsh\\anaconda3\\lib\\site-packages (from requests>=2.9->geoip2) (3.0.4)\n",
      "Requirement already satisfied: idna<2.9,>=2.5 in c:\\users\\utkarsh\\anaconda3\\lib\\site-packages (from requests>=2.9->geoip2) (2.8)\n",
      "Building wheels for collected packages: maxminddb\n",
      "  Building wheel for maxminddb (setup.py): started\n",
      "  Building wheel for maxminddb (setup.py): finished with status 'done'\n",
      "  Stored in directory: C:\\Users\\UTKARSH\\AppData\\Local\\pip\\Cache\\wheels\\58\\60\\71\\9d07e2c0999b13b1f3ca3e2167a3436209e24d7f4ef6e8f919\n",
      "Successfully built maxminddb\n",
      "Installing collected packages: maxminddb, geoip2\n",
      "Successfully installed geoip2-2.9.0 maxminddb-1.4.1\n"
     ]
    }
   ],
   "source": [
    "!pip install geoip2"
   ]
  },
  {
   "cell_type": "code",
   "execution_count": null,
   "metadata": {},
   "outputs": [],
   "source": [
    "url = \"https://www.google.com/\"\n",
    "headers = {\n",
    "    'User-Agent': 'Mozilla/5.0 (Windows NT 10.0; Win64; x64) AppleWebKit/537.36 (KHTML, like Gecko) Chrome/76.0.3809.100 Safari/537.36',\n",
    "}\n",
    "rsp = requests.get(url,stream = True,headers = headers)\n",
    "ip = rsp.raw._fp.fp.raw._sock.getpeername()[0]\n",
    "page = urlopen(Request(url,headers=headers))\n",
    "soup = BeautifulSoup(page,'html.parser')"
   ]
  },
  {
   "cell_type": "code",
   "execution_count": null,
   "metadata": {},
   "outputs": [],
   "source": [
    "data = {}"
   ]
  },
  {
   "cell_type": "code",
   "execution_count": null,
   "metadata": {},
   "outputs": [],
   "source": [
    "# A1\n",
    "def getlocation():\n",
    "    data['location'] = reader.city(ip).country.name\n",
    "    \n",
    "# A3\n",
    "def Https():\n",
    "    if 'https' in rsp.url:\n",
    "        data['https_enabled'] = True\n",
    "    else :\n",
    "        data['https_enabled'] = False\n",
    "        \n",
    "# A5\n",
    "def WhoIs():\n",
    "    data['WhoIs'] = whois.whois(url)\n",
    "\n",
    "# A9\n",
    "def appletcount():\n",
    "    data['appletcount'] = len(soup.find_all('applet'))\n",
    "\n",
    "# A11\n",
    "def textTfidf():\n",
    "    souptemp = BeautifulSoup(urlopen(Request(url,headers=headers)),'html.parser')\n",
    "    [s.extract() for s in souptemp(['style', 'script', '[document]', 'head', 'title'])]\n",
    "    text = souptemp.get_text()\n",
    "    lines = (line.strip() for line in text.splitlines())\n",
    "    chunks = (phrase.strip() for line in lines for phrase in line.split(\"  \"))\n",
    "    text = '\\n'.join(chunk for chunk in chunks if chunk)\n",
    "    #TODO : TFIDF\n",
    "\n",
    "#A13\n",
    "def titleTfidf():\n",
    "    title = soup.find('title').get_text()\n",
    "    #TODO : TFIDF\n",
    "\n",
    "#A15&19\n",
    "def searchPattern(s):\n",
    "    pat = s\n",
    "    exp = str(soup)\n",
    "    count = 0\n",
    "    for i in range(len(exp)):\n",
    "        if(exp[i:i + len(pat)] == pat):count = count + 1\n",
    "    data[s] = count \n",
    "\n",
    "# A21\n",
    "def windowsOpen():\n",
    "    exp = str(soup)\n",
    "    if 'Windows.open()' in exp:\n",
    "        data['popup'] = True\n",
    "    else :\n",
    "        data['popup'] = False"
   ]
  },
  {
   "cell_type": "code",
   "execution_count": null,
   "metadata": {},
   "outputs": [],
   "source": [
    "getlocation()\n",
    "Https()\n",
    "WhoIs()\n",
    "appletcount()\n",
    "textTfidf()\n",
    "titleTfidf()\n",
    "searchPattern('XMLHttpRequest')\n",
    "searchPattern('eval()')\n",
    "windowsOpen()"
   ]
  },
  {
   "cell_type": "code",
   "execution_count": null,
   "metadata": {},
   "outputs": [],
   "source": [
    "data"
   ]
  },
  {
   "cell_type": "code",
   "execution_count": null,
   "metadata": {},
   "outputs": [],
   "source": []
  }
 ],
 "metadata": {
  "kernelspec": {
   "display_name": "Python 3",
   "language": "python",
   "name": "python3"
  }
 },
 "nbformat": 4,
 "nbformat_minor": 2
}
